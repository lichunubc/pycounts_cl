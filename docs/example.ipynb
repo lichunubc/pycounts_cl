{
 "cells": [
  {
   "cell_type": "code",
   "execution_count": 1,
   "id": "9b7c0124-7dbd-46ec-a85b-3c5aed35a981",
   "metadata": {},
   "outputs": [
    {
     "data": {
      "text/plain": [
       "'C:\\\\Users\\\\xingl\\\\mds\\\\524_assignment\\\\pycounts_cl'"
      ]
     },
     "execution_count": 1,
     "metadata": {},
     "output_type": "execute_result"
    }
   ],
   "source": [
    "pwd"
   ]
  },
  {
   "cell_type": "code",
   "execution_count": 1,
   "id": "820d6bc6-4d82-4e5c-9d40-283ef862bb51",
   "metadata": {},
   "outputs": [
    {
     "ename": "ModuleNotFoundError",
     "evalue": "No module named 'pycounts_cl'",
     "output_type": "error",
     "traceback": [
      "\u001b[1;31m---------------------------------------------------------------------------\u001b[0m",
      "\u001b[1;31mModuleNotFoundError\u001b[0m                       Traceback (most recent call last)",
      "Cell \u001b[1;32mIn[1], line 1\u001b[0m\n\u001b[1;32m----> 1\u001b[0m \u001b[38;5;28;01mfrom\u001b[39;00m \u001b[38;5;21;01mpycounts_cl\u001b[39;00m\u001b[38;5;21;01m.\u001b[39;00m\u001b[38;5;21;01mpycounts_cl\u001b[39;00m \u001b[38;5;28;01mimport\u001b[39;00m count_words\n\u001b[0;32m      2\u001b[0m \u001b[38;5;28;01mfrom\u001b[39;00m \u001b[38;5;21;01mpycounts_cl\u001b[39;00m\u001b[38;5;21;01m.\u001b[39;00m\u001b[38;5;21;01mplotting\u001b[39;00m \u001b[38;5;28;01mimport\u001b[39;00m plot_words\n",
      "\u001b[1;31mModuleNotFoundError\u001b[0m: No module named 'pycounts_cl'"
     ]
    }
   ],
   "source": [
    "from pycounts_cl.pycounts_cl import count_words\n",
    "from pycounts_cl.plotting import plot_words"
   ]
  },
  {
   "cell_type": "markdown",
   "id": "2c527e6a-59ca-4715-aa4c-174011fdcddc",
   "metadata": {},
   "source": [
    "# Count words\n",
    "We can count the words in our text file using the count_words() function. Note that this function removes punctuation and makes all words lowercase before counting."
   ]
  },
  {
   "cell_type": "code",
   "execution_count": 3,
   "id": "88fdffd8-6d73-4997-88ab-ba9f189bd8bc",
   "metadata": {},
   "outputs": [
    {
     "ename": "NameError",
     "evalue": "name 'count_words' is not defined",
     "output_type": "error",
     "traceback": [
      "\u001b[1;31m---------------------------------------------------------------------------\u001b[0m",
      "\u001b[1;31mNameError\u001b[0m                                 Traceback (most recent call last)",
      "Cell \u001b[1;32mIn[3], line 1\u001b[0m\n\u001b[1;32m----> 1\u001b[0m counts \u001b[38;5;241m=\u001b[39m \u001b[43mcount_words\u001b[49m(\u001b[38;5;124m\"\u001b[39m\u001b[38;5;124meinstein.txt\u001b[39m\u001b[38;5;124m\"\u001b[39m)\n\u001b[0;32m      2\u001b[0m \u001b[38;5;28mprint\u001b[39m(counts)\n",
      "\u001b[1;31mNameError\u001b[0m: name 'count_words' is not defined"
     ]
    }
   ],
   "source": [
    "counts = count_words(\"einstein.txt\")\n",
    "print(counts)"
   ]
  },
  {
   "cell_type": "code",
   "execution_count": null,
   "id": "726f6df9-b4e4-43b5-a7c4-3a5d667d7984",
   "metadata": {},
   "outputs": [],
   "source": []
  }
 ],
 "metadata": {
  "kernelspec": {
   "display_name": "Python 3 (ipykernel)",
   "language": "python",
   "name": "python3"
  },
  "language_info": {
   "codemirror_mode": {
    "name": "ipython",
    "version": 3
   },
   "file_extension": ".py",
   "mimetype": "text/x-python",
   "name": "python",
   "nbconvert_exporter": "python",
   "pygments_lexer": "ipython3",
   "version": "3.11.4"
  }
 },
 "nbformat": 4,
 "nbformat_minor": 5
}
